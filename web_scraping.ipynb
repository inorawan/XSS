{
  "nbformat": 4,
  "nbformat_minor": 0,
  "metadata": {
    "colab": {
      "provenance": [],
      "authorship_tag": "ABX9TyM09Oo4kU0cHVT+fk8rvpjr",
      "include_colab_link": true
    },
    "kernelspec": {
      "name": "python3",
      "display_name": "Python 3"
    },
    "language_info": {
      "name": "python"
    }
  },
  "cells": [
    {
      "cell_type": "markdown",
      "metadata": {
        "id": "view-in-github",
        "colab_type": "text"
      },
      "source": [
        "<a href=\"https://colab.research.google.com/github/inorawan/XSS/blob/main/web_scraping.ipynb\" target=\"_parent\"><img src=\"https://colab.research.google.com/assets/colab-badge.svg\" alt=\"Open In Colab\"/></a>"
      ]
    },
    {
      "cell_type": "code",
      "execution_count": 3,
      "metadata": {
        "id": "RxmoQU1vWP77"
      },
      "outputs": [],
      "source": [
        "from bs4 import BeautifulSoup\n",
        "import bs4 as bs\n",
        "import urllib.request"
      ]
    },
    {
      "cell_type": "code",
      "source": [
        "url = 'https://inorawancareers.com/'"
      ],
      "metadata": {
        "id": "ZA6Fp1NqWs8T"
      },
      "execution_count": 8,
      "outputs": []
    },
    {
      "cell_type": "code",
      "source": [
        "page = requests.get(url)"
      ],
      "metadata": {
        "id": "B_gOU4JLW_tp"
      },
      "execution_count": 11,
      "outputs": []
    },
    {
      "cell_type": "code",
      "source": [
        "soup = BeautifulSoup( page.text, 'html')"
      ],
      "metadata": {
        "collapsed": true,
        "id": "U7GVKMkZXqB0"
      },
      "execution_count": 13,
      "outputs": []
    },
    {
      "cell_type": "code",
      "source": [
        "print(soup)"
      ],
      "metadata": {
        "colab": {
          "base_uri": "https://localhost:8080/"
        },
        "collapsed": true,
        "id": "Lex5xk1FYFGn",
        "outputId": "bad89c2b-068d-45ed-ba8e-e3d1dbdb48f4"
      },
      "execution_count": 14,
      "outputs": [
        {
          "output_type": "stream",
          "name": "stdout",
          "text": [
            "<!DOCTYPE html>\n",
            "<html lang=\"en\">\n",
            "<head>\n",
            "<meta charset=\"utf-8\"/>\n",
            "<meta content=\"width=device-width, initial-scale=1\" name=\"viewport\"/>\n",
            "<link crossorigin=\"anonymous\" href=\"https://cdn.jsdelivr.net/npm/bootstrap@5.3.3/dist/css/bootstrap.min.css\" integrity=\"sha384-QWTKZyjpPEjISv5WaRU9OFeRpok6YctnYmDr5pNlyT2bRjXh0JMhjY6hW+ALEwIH\" rel=\"stylesheet\"/>\n",
            "<title>Find Jobs</title>\n",
            "</head>\n",
            "<body class=\"mt-10 mb-10 ml-10 mr-10\">\n",
            "<h1 class=\"text-center mt-4 mb-4\"> Jovian Careers</h1>\n",
            "<h3>About us!  </h3>\n",
            "<h2 class=\"text-center mt-4 mb-4\">Jobs availables !\n",
            "  <img class=\"img-fluid\" id=\"banner\" src=\"static/jovian_1.jpg\"/>\n",
            "<h1 class=\"text-center mt-2 mb-2\">About Portal!</h1>\n",
            "<div id=\"container\">\n",
            "<p class=\"lead\"> Lorem ipsum dolor sit amet, consectetur adipiscing elit. Etiam quis lobortis urna. Suspendisse sit amet aliquet odio, vitae ornare elit. Praesent vel neque at quam egestas egestas. Morbi lacinia ultricies est, a condimentum massa iaculis nec. Curabitur congue, ipsum vitae ornare feugiat, urna risus semper dui, ac dapibus purus purus sed urna. Ut malesuada nulla et efficitur egestas. Nulla facilisi. Nam eu fermentum velit. Fusce eget venenatis urna, quis venenatis enim. Duis varius est diam, et dictum justo porta nec. Integer elementum commodo risus a luctus. Nulla ac semper nunc, quis accumsan massa. Suspendisse potenti. Proin sed ipsum maximus, maximus nisl nec, venenatis dui. </p>\n",
            "</div>\n",
            "<h2 class=\"text-center mt-2 mb-2\">Open Positions </h2>\n",
            "</h2><p>\n",
            "</p><div class=\"border-bottom row\" style=\"margin-bottom:16px; padding-bottom:6px\">\n",
            "<div class=\"col-10\">\n",
            "<h4 style=\"color:rgb(120,120,120); margin-bottom:6px;\">Data Analyst</h4>\n",
            "<div>\n",
            "<b>\n",
            "          Location:\n",
            "        </b> \n",
            "        Bengaluru, India\n",
            "      </div>\n",
            "<div>\n",
            "<b>Salary:</b> Rs. 10,00,000\n",
            "      </div>\n",
            "</div>\n",
            "<div class=\"col-2\">\n",
            "<button class=\"btn btn-outline-primary\" type=\"button\">Apply</button>\n",
            "</div>\n",
            "</div>\n",
            "<div class=\"border-bottom row\" style=\"margin-bottom:16px; padding-bottom:6px\">\n",
            "<div class=\"col-10\">\n",
            "<h4 style=\"color:rgb(120,120,120); margin-bottom:6px;\">Data Scientist</h4>\n",
            "<div>\n",
            "<b>\n",
            "          Location:\n",
            "        </b> \n",
            "        Delhi, India\n",
            "      </div>\n",
            "<div>\n",
            "<b>Salary:</b> Rs. 15,00,000\n",
            "      </div>\n",
            "</div>\n",
            "<div class=\"col-2\">\n",
            "<button class=\"btn btn-outline-primary\" type=\"button\">Apply</button>\n",
            "</div>\n",
            "</div>\n",
            "<div class=\"border-bottom row\" style=\"margin-bottom:16px; padding-bottom:6px\">\n",
            "<div class=\"col-10\">\n",
            "<h4 style=\"color:rgb(120,120,120); margin-bottom:6px;\">Frontend Engineer</h4>\n",
            "<div>\n",
            "<b>\n",
            "          Location:\n",
            "        </b> \n",
            "        Remote\n",
            "      </div>\n",
            "<div>\n",
            "<b>Salary:</b> Rs. 123,00,000\n",
            "      </div>\n",
            "</div>\n",
            "<div class=\"col-2\">\n",
            "<button class=\"btn btn-outline-primary\" type=\"button\">Apply</button>\n",
            "</div>\n",
            "</div>\n",
            "<div class=\"border-bottom row\" style=\"margin-bottom:16px; padding-bottom:6px\">\n",
            "<div class=\"col-10\">\n",
            "<h4 style=\"color:rgb(120,120,120); margin-bottom:6px;\">Backend Engineer</h4>\n",
            "<div>\n",
            "<b>\n",
            "          Location:\n",
            "        </b> \n",
            "        San Francisco, USA\n",
            "      </div>\n",
            "<div>\n",
            "<b>Salary:</b> Rs. 12,00,000\n",
            "      </div>\n",
            "</div>\n",
            "<div class=\"col-2\">\n",
            "<button class=\"btn btn-outline-primary\" type=\"button\">Apply</button>\n",
            "</div>\n",
            "</div>\n",
            "<div style=\"text-align:center\">\n",
            "<button class=\"btn btn-outline-primary\" style=\"background-color: #008CBA; border: none; color: white; padding: 10px 20px; text-align: center; text-decoration\" type=\"button\">Contact us!</button>\n",
            "</div>\n",
            "<div style=\"text-align:center;background-color:#04AA6D; border: none; color: white; padding: 15px 32px; text-align: center; text-decoration'\">\n",
            "<p>Copy right 2024, Job Portal</p>\n",
            "</div>\n",
            "</body>\n",
            "</html>\n"
          ]
        }
      ]
    },
    {
      "cell_type": "code",
      "source": [
        "print(soup.prettify())"
      ],
      "metadata": {
        "colab": {
          "base_uri": "https://localhost:8080/"
        },
        "collapsed": true,
        "id": "YTzzEMsFYKIL",
        "outputId": "f92f6ca5-690d-431b-b362-f726e52ac641"
      },
      "execution_count": 16,
      "outputs": [
        {
          "output_type": "stream",
          "name": "stdout",
          "text": [
            "<!DOCTYPE html>\n",
            "<html lang=\"en\">\n",
            " <head>\n",
            "  <meta charset=\"utf-8\"/>\n",
            "  <meta content=\"width=device-width, initial-scale=1\" name=\"viewport\"/>\n",
            "  <link crossorigin=\"anonymous\" href=\"https://cdn.jsdelivr.net/npm/bootstrap@5.3.3/dist/css/bootstrap.min.css\" integrity=\"sha384-QWTKZyjpPEjISv5WaRU9OFeRpok6YctnYmDr5pNlyT2bRjXh0JMhjY6hW+ALEwIH\" rel=\"stylesheet\"/>\n",
            "  <title>\n",
            "   Find Jobs\n",
            "  </title>\n",
            " </head>\n",
            " <body class=\"mt-10 mb-10 ml-10 mr-10\">\n",
            "  <h1 class=\"text-center mt-4 mb-4\">\n",
            "   Jovian Careers\n",
            "  </h1>\n",
            "  <h3>\n",
            "   About us!\n",
            "  </h3>\n",
            "  <h2 class=\"text-center mt-4 mb-4\">\n",
            "   Jobs availables !\n",
            "   <img class=\"img-fluid\" id=\"banner\" src=\"static/jovian_1.jpg\"/>\n",
            "   <h1 class=\"text-center mt-2 mb-2\">\n",
            "    About Portal!\n",
            "   </h1>\n",
            "   <div id=\"container\">\n",
            "    <p class=\"lead\">\n",
            "     Lorem ipsum dolor sit amet, consectetur adipiscing elit. Etiam quis lobortis urna. Suspendisse sit amet aliquet odio, vitae ornare elit. Praesent vel neque at quam egestas egestas. Morbi lacinia ultricies est, a condimentum massa iaculis nec. Curabitur congue, ipsum vitae ornare feugiat, urna risus semper dui, ac dapibus purus purus sed urna. Ut malesuada nulla et efficitur egestas. Nulla facilisi. Nam eu fermentum velit. Fusce eget venenatis urna, quis venenatis enim. Duis varius est diam, et dictum justo porta nec. Integer elementum commodo risus a luctus. Nulla ac semper nunc, quis accumsan massa. Suspendisse potenti. Proin sed ipsum maximus, maximus nisl nec, venenatis dui.\n",
            "    </p>\n",
            "   </div>\n",
            "   <h2 class=\"text-center mt-2 mb-2\">\n",
            "    Open Positions\n",
            "   </h2>\n",
            "  </h2>\n",
            "  <p>\n",
            "  </p>\n",
            "  <div class=\"border-bottom row\" style=\"margin-bottom:16px; padding-bottom:6px\">\n",
            "   <div class=\"col-10\">\n",
            "    <h4 style=\"color:rgb(120,120,120); margin-bottom:6px;\">\n",
            "     Data Analyst\n",
            "    </h4>\n",
            "    <div>\n",
            "     <b>\n",
            "      Location:\n",
            "     </b>\n",
            "     Bengaluru, India\n",
            "    </div>\n",
            "    <div>\n",
            "     <b>\n",
            "      Salary:\n",
            "     </b>\n",
            "     Rs. 10,00,000\n",
            "    </div>\n",
            "   </div>\n",
            "   <div class=\"col-2\">\n",
            "    <button class=\"btn btn-outline-primary\" type=\"button\">\n",
            "     Apply\n",
            "    </button>\n",
            "   </div>\n",
            "  </div>\n",
            "  <div class=\"border-bottom row\" style=\"margin-bottom:16px; padding-bottom:6px\">\n",
            "   <div class=\"col-10\">\n",
            "    <h4 style=\"color:rgb(120,120,120); margin-bottom:6px;\">\n",
            "     Data Scientist\n",
            "    </h4>\n",
            "    <div>\n",
            "     <b>\n",
            "      Location:\n",
            "     </b>\n",
            "     Delhi, India\n",
            "    </div>\n",
            "    <div>\n",
            "     <b>\n",
            "      Salary:\n",
            "     </b>\n",
            "     Rs. 15,00,000\n",
            "    </div>\n",
            "   </div>\n",
            "   <div class=\"col-2\">\n",
            "    <button class=\"btn btn-outline-primary\" type=\"button\">\n",
            "     Apply\n",
            "    </button>\n",
            "   </div>\n",
            "  </div>\n",
            "  <div class=\"border-bottom row\" style=\"margin-bottom:16px; padding-bottom:6px\">\n",
            "   <div class=\"col-10\">\n",
            "    <h4 style=\"color:rgb(120,120,120); margin-bottom:6px;\">\n",
            "     Frontend Engineer\n",
            "    </h4>\n",
            "    <div>\n",
            "     <b>\n",
            "      Location:\n",
            "     </b>\n",
            "     Remote\n",
            "    </div>\n",
            "    <div>\n",
            "     <b>\n",
            "      Salary:\n",
            "     </b>\n",
            "     Rs. 123,00,000\n",
            "    </div>\n",
            "   </div>\n",
            "   <div class=\"col-2\">\n",
            "    <button class=\"btn btn-outline-primary\" type=\"button\">\n",
            "     Apply\n",
            "    </button>\n",
            "   </div>\n",
            "  </div>\n",
            "  <div class=\"border-bottom row\" style=\"margin-bottom:16px; padding-bottom:6px\">\n",
            "   <div class=\"col-10\">\n",
            "    <h4 style=\"color:rgb(120,120,120); margin-bottom:6px;\">\n",
            "     Backend Engineer\n",
            "    </h4>\n",
            "    <div>\n",
            "     <b>\n",
            "      Location:\n",
            "     </b>\n",
            "     San Francisco, USA\n",
            "    </div>\n",
            "    <div>\n",
            "     <b>\n",
            "      Salary:\n",
            "     </b>\n",
            "     Rs. 12,00,000\n",
            "    </div>\n",
            "   </div>\n",
            "   <div class=\"col-2\">\n",
            "    <button class=\"btn btn-outline-primary\" type=\"button\">\n",
            "     Apply\n",
            "    </button>\n",
            "   </div>\n",
            "  </div>\n",
            "  <div style=\"text-align:center\">\n",
            "   <button class=\"btn btn-outline-primary\" style=\"background-color: #008CBA; border: none; color: white; padding: 10px 20px; text-align: center; text-decoration\" type=\"button\">\n",
            "    Contact us!\n",
            "   </button>\n",
            "  </div>\n",
            "  <div style=\"text-align:center;background-color:#04AA6D; border: none; color: white; padding: 15px 32px; text-align: center; text-decoration'\">\n",
            "   <p>\n",
            "    Copy right 2024, Job Portal\n",
            "   </p>\n",
            "  </div>\n",
            " </body>\n",
            "</html>\n",
            "\n"
          ]
        }
      ]
    },
    {
      "cell_type": "code",
      "source": [
        "source = urllib.request.urlopen('https://pythonprogramming.net/parsememcparseface/').read()\n",
        "soup = bs.BeautifulSoup(source,'lxml')\n",
        "print(soup.title)"
      ],
      "metadata": {
        "colab": {
          "base_uri": "https://localhost:8080/"
        },
        "id": "f3c84-C5nZGt",
        "outputId": "3084b747-3e2d-4225-8ad7-7d7b6fc9a84a"
      },
      "execution_count": 5,
      "outputs": [
        {
          "output_type": "stream",
          "name": "stdout",
          "text": [
            "<title>Python Programming Tutorials</title>\n"
          ]
        }
      ]
    },
    {
      "cell_type": "code",
      "source": [
        "print(soup.title.name)"
      ],
      "metadata": {
        "colab": {
          "base_uri": "https://localhost:8080/"
        },
        "id": "4iSm5n8UoL3N",
        "outputId": "dce2d2c1-ccd6-4fbe-a36b-c61e32184755"
      },
      "execution_count": 6,
      "outputs": [
        {
          "output_type": "stream",
          "name": "stdout",
          "text": [
            "title\n"
          ]
        }
      ]
    },
    {
      "cell_type": "code",
      "source": [
        "print(soup.title.string)"
      ],
      "metadata": {
        "colab": {
          "base_uri": "https://localhost:8080/"
        },
        "id": "_MbpIMaxoPrK",
        "outputId": "9ac8eb3e-c832-4cca-a6e0-52e31d801b2d"
      },
      "execution_count": 7,
      "outputs": [
        {
          "output_type": "stream",
          "name": "stdout",
          "text": [
            "Python Programming Tutorials\n"
          ]
        }
      ]
    },
    {
      "cell_type": "code",
      "source": [
        "print(soup.title.parent.name)"
      ],
      "metadata": {
        "colab": {
          "base_uri": "https://localhost:8080/"
        },
        "id": "2wuaLGSEoTUe",
        "outputId": "97ea2ac7-c7f2-4b0e-c800-011dde61bda2"
      },
      "execution_count": 8,
      "outputs": [
        {
          "output_type": "stream",
          "name": "stdout",
          "text": [
            "head\n"
          ]
        }
      ]
    },
    {
      "cell_type": "code",
      "source": [
        "print(soup.p)"
      ],
      "metadata": {
        "colab": {
          "base_uri": "https://localhost:8080/"
        },
        "id": "aRJ_6c6IoXgw",
        "outputId": "3a58fc5b-4913-4cce-95f7-300edc5caf16"
      },
      "execution_count": 9,
      "outputs": [
        {
          "output_type": "stream",
          "name": "stdout",
          "text": [
            "<p class=\"introduction\">Oh, hello! This is a <span style=\"font-size:115%\">wonderful</span> page meant to let you practice web scraping. This page was originally created to help people work with the <a href=\"https://www.crummy.com/software/BeautifulSoup/bs4/doc/\" target=\"blank\"><strong>Beautiful Soup 4</strong></a> library.</p>\n"
          ]
        }
      ]
    },
    {
      "cell_type": "code",
      "source": [
        "print(soup.find_all('p'))"
      ],
      "metadata": {
        "colab": {
          "base_uri": "https://localhost:8080/"
        },
        "id": "QPulHKM_oZtk",
        "outputId": "fe427372-3db6-4648-84d4-35d9f701a9f2"
      },
      "execution_count": 10,
      "outputs": [
        {
          "output_type": "stream",
          "name": "stdout",
          "text": [
            "[<p class=\"introduction\">Oh, hello! This is a <span style=\"font-size:115%\">wonderful</span> page meant to let you practice web scraping. This page was originally created to help people work with the <a href=\"https://www.crummy.com/software/BeautifulSoup/bs4/doc/\" target=\"blank\"><strong>Beautiful Soup 4</strong></a> library.</p>, <p>The following table gives some general information for the following <code>programming languages</code>:</p>, <p>I think it's clear that, on a scale of 1-10, python is:</p>, <p>Javascript (dynamic data) test:</p>, <p class=\"jstest\" id=\"yesnojs\">y u bad tho?</p>, <p>Whᶐt hαppéns now¿</p>, <p><a href=\"/sitemap.xml\" target=\"blank\"><strong>sitemap</strong></a></p>, <p class=\"grey-text text-lighten-4\">Contact: Harrison@pythonprogramming.net.</p>, <p class=\"grey-text right\" style=\"padding-right:10px\">Programming is a superpower.</p>]\n"
          ]
        }
      ]
    },
    {
      "cell_type": "code",
      "source": [
        "for paragraph in soup.find_all('p'):\n",
        "  print(paragraph.string)\n",
        "  print(paragraph.text)"
      ],
      "metadata": {
        "colab": {
          "base_uri": "https://localhost:8080/"
        },
        "collapsed": true,
        "id": "3KlGoQFToiIU",
        "outputId": "28522f46-ebe8-4ccb-b053-34664910e6e1"
      },
      "execution_count": 12,
      "outputs": [
        {
          "output_type": "stream",
          "name": "stdout",
          "text": [
            "None\n",
            "Oh, hello! This is a wonderful page meant to let you practice web scraping. This page was originally created to help people work with the Beautiful Soup 4 library.\n",
            "None\n",
            "The following table gives some general information for the following programming languages:\n",
            "I think it's clear that, on a scale of 1-10, python is:\n",
            "I think it's clear that, on a scale of 1-10, python is:\n",
            "Javascript (dynamic data) test:\n",
            "Javascript (dynamic data) test:\n",
            "y u bad tho?\n",
            "y u bad tho?\n",
            "Whᶐt hαppéns now¿\n",
            "Whᶐt hαppéns now¿\n",
            "sitemap\n",
            "sitemap\n",
            "Contact: Harrison@pythonprogramming.net.\n",
            "Contact: Harrison@pythonprogramming.net.\n",
            "Programming is a superpower.\n",
            "Programming is a superpower.\n"
          ]
        }
      ]
    },
    {
      "cell_type": "code",
      "source": [
        "for url in soup.find_all('a'):\n",
        "  link = url.get('href')\n",
        "  # get all link of the webpage\n",
        "  if link.startswith(\"https\"):\n",
        "    print(url.get('href'))\n",
        "  else:\n",
        "    continue"
      ],
      "metadata": {
        "colab": {
          "base_uri": "https://localhost:8080/"
        },
        "collapsed": true,
        "id": "K7mg5ZwBpHZM",
        "outputId": "ffbda1f8-82c7-4ad5-e5fe-d2033ce2e0a9"
      },
      "execution_count": 19,
      "outputs": [
        {
          "output_type": "stream",
          "name": "stdout",
          "text": [
            "https://goo.gl/7zgAVQ\n",
            "https://goo.gl/7zgAVQ\n",
            "https://www.crummy.com/software/BeautifulSoup/bs4/doc/\n",
            "https://www.facebook.com/pythonprogramming.net/\n",
            "https://twitter.com/sentdex\n",
            "https://instagram.com/sentdex\n",
            "https://xkcd.com/353/\n"
          ]
        }
      ]
    },
    {
      "cell_type": "code",
      "source": [
        "source2 = urllib.request.urlopen('https://www.nitk.ac.in/').read()\n",
        "soup2 = bs.BeautifulSoup(source2,'lxml')"
      ],
      "metadata": {
        "id": "cCqBhKb4rFqA"
      },
      "execution_count": 20,
      "outputs": []
    },
    {
      "cell_type": "code",
      "source": [
        "for url in soup2.find_all('a'):\n",
        "  if url.has_attr('href'):\n",
        "    link = url.get('href')\n",
        "    if link.startswith(\"https\"):\n",
        "      print(url.get('href'))\n",
        ""
      ],
      "metadata": {
        "colab": {
          "base_uri": "https://localhost:8080/"
        },
        "collapsed": true,
        "id": "AY3P_5a-rU8z",
        "outputId": "db6909c0-7549-4856-de64-ccf7c53cefb2"
      },
      "execution_count": 31,
      "outputs": [
        {
          "output_type": "stream",
          "name": "stdout",
          "text": [
            "https://accounts.google.com/signin/v2/identifier?continue=https%3A%2F%2Fmail.google.com%2Fmail%2F&ltmpl=default&hd=nitk.edu.in&service=mail&sacu=1&rip=1&flowName=GlifWebSignIn&flowEntry=ServiceLogin\n",
            "https://www.nitk.ac.in/contact-us\n",
            "https://iris.nitk.ac.in/donate\n",
            "https://www.nitk.ac.in/design-system/Docs/IT-Policy/nitk-it-policy-approved-25feb15.pdf\n",
            "https://crf.nitk.ac.in/\n",
            "https://cdc.nitk.ac.in/\n",
            "https://crf.nitk.ac.in/\n",
            "https://oir.nitk.ac.in/\n",
            "https://accounts.google.com/signin/v2/identifier?continue=https%3A%2F%2Fmail.google.com%2Fmail%2F&ltmpl=default&hd=nitk.edu.in&service=mail&sacu=1&rip=1&flowName=GlifWebSignIn&flowEntry=ServiceLogin\n",
            "https://iris.nitk.ac.in/donate\n",
            "https://www.nitk.ac.in/contact-us\n",
            "https://www.nitk.ac.in/design-system/Docs/IT-Policy/nitk-it-policy-approved-25feb15.pdf\n",
            "https://crf.nitk.ac.in/\n",
            "https://cdc.nitk.ac.in/\n",
            "https://crf.nitk.ac.in/\n",
            "https://oir.nitk.ac.in/\n",
            "https://twitter.com/surathkal_nitk?ref_src=twsrc%5Etfw\n",
            "https://twitter.com/surathkal_nitk\n",
            "https://www.youtube.com/watch?v=71jKkD5Ol8E\n",
            "https://cdc.nitk.ac.in/\n",
            "https://iris.nitk.ac.in/hrms\n",
            "https://telephone.nitk.ac.in/\n",
            "https://alumni.nitk.ac.in/\n",
            "https://www.ncs.gov.in/Pages/default.aspx\n",
            "https://www.facebook.com/nitkarnatakaOfficial\n",
            "https://www.linkedin.com/school/nitk-surathkal/\n",
            "https://twitter.com/surathkal_nitk\n",
            "https://www.instagram.com/nitk.surathkal/\n"
          ]
        }
      ]
    },
    {
      "cell_type": "code",
      "source": [
        "for div in soup.find_all('div', class_='body'):\n",
        "    print(div.text)"
      ],
      "metadata": {
        "colab": {
          "base_uri": "https://localhost:8080/"
        },
        "collapsed": true,
        "id": "b_R1ouu1up3S",
        "outputId": "c2b8b1e0-6ec5-46fa-d84f-d4b7078321e2"
      },
      "execution_count": 32,
      "outputs": [
        {
          "output_type": "stream",
          "name": "stdout",
          "text": [
            "\n",
            "Oh, hello! This is a wonderful page meant to let you practice web scraping. This page was originally created to help people work with the Beautiful Soup 4 library.\n",
            "The following table gives some general information for the following programming languages:\n",
            "\n",
            "Python\n",
            "Pascal\n",
            "Lisp\n",
            "D#\n",
            "Cobol\n",
            "Fortran\n",
            "Haskell\n",
            "\n",
            "\n",
            "\n",
            "Program Name\n",
            "Internet Points\n",
            "Kittens?\n",
            "\n",
            "\n",
            "Python\n",
            "932914021\n",
            "Definitely\n",
            "\n",
            "\n",
            "Pascal\n",
            "532\n",
            "Unlikely\n",
            "\n",
            "\n",
            "Lisp\n",
            "1522\n",
            "Uncertain\n",
            "\n",
            "\n",
            "D#\n",
            "12\n",
            "Possibly\n",
            "\n",
            "\n",
            "Cobol\n",
            "3\n",
            "No.\n",
            "\n",
            "\n",
            "Fortran\n",
            "52124\n",
            "Yes.\n",
            "\n",
            "\n",
            "Haskell\n",
            "24\n",
            "lol.\n",
            "\n",
            "\n",
            "I think it's clear that, on a scale of 1-10, python is:\n",
            "\n",
            "\n",
            "\n",
            "\n",
            "\n",
            "\n",
            "Javascript (dynamic data) test:\n",
            "y u bad tho?\n",
            "\n",
            "\n",
            "Beautiful is better than ugly.\n",
            "Explicit is better than implicit.\n",
            "Simple is better than complex.\n",
            "Complex is better than complicated.\n",
            "Flat is better than nested.\n",
            "Sparse is better than dense.\n",
            "Readability counts.\n",
            "Special cases aren't special enough to break the rules.\n",
            "Although practicality beats purity.\n",
            "Errors should never pass silently.\n",
            "Unless explicitly silenced.\n",
            "In the face of ambiguity, refuse the temptation to guess.\n",
            "There should be one-- and preferably only one --obvious way to do it.\n",
            "Although that way may not be obvious at first unless you're Dutch.\n",
            "Now is better than never.\n",
            "Although never is often better than *right* now.\n",
            "If the implementation is hard to explain, it's a bad idea.\n",
            "If the implementation is easy to explain, it may be a good idea.\n",
            "Namespaces are one honking great idea -- let's do more of those!\n",
            "Whᶐt hαppéns now¿\n",
            "sitemap\n",
            "\n"
          ]
        }
      ]
    },
    {
      "cell_type": "code",
      "source": [
        "# To check whether given URL is malicious or not\n",
        "\n",
        "import requests\n",
        "\n",
        "def check_phishtank(url_to_check):\n",
        "    endpoint = \"https://checkurl.phishtank.com/checkurl/\"\n",
        "    params = {\n",
        "        'format': 'json',\n",
        "        'url': url_to_check\n",
        "    }\n",
        "\n",
        "    response = requests.get(endpoint, params=params)\n",
        "    if response.status_code == 200:\n",
        "        result = response.json()\n",
        "        if result['results']['in_database']:\n",
        "            return True, result['results']\n",
        "        else:\n",
        "            return False, None\n",
        "    else:\n",
        "        response.raise_for_status()\n",
        "\n",
        "# Example usage\n",
        "if __name__ == \"__main__\":\n",
        "    url_to_check = \"http://www.example.com\"\n",
        "\n",
        "    is_phish, details = check_phishtank(url_to_check)\n",
        "    if is_phish:\n",
        "        print(f\"The URL '{url_to_check}' is a phishing site. Details: {details}\")\n",
        "    else:\n",
        "        print(f\"The URL '{url_to_check}' is not in the PhishTank database.\")\n"
      ],
      "metadata": {
        "colab": {
          "base_uri": "https://localhost:8080/",
          "height": 463
        },
        "id": "SbnTrWUNzrm4",
        "outputId": "d2fdb435-8308-4c0d-8d1a-85cab5590f28"
      },
      "execution_count": 35,
      "outputs": [
        {
          "output_type": "error",
          "ename": "HTTPError",
          "evalue": "403 Client Error: Forbidden for url: https://checkurl.phishtank.com/checkurl/?format=json&url=http%3A%2F%2Fwww.example.com",
          "traceback": [
            "\u001b[0;31m---------------------------------------------------------------------------\u001b[0m",
            "\u001b[0;31mHTTPError\u001b[0m                                 Traceback (most recent call last)",
            "\u001b[0;32m<ipython-input-35-a3616c7557eb>\u001b[0m in \u001b[0;36m<cell line: 23>\u001b[0;34m()\u001b[0m\n\u001b[1;32m     24\u001b[0m     \u001b[0murl_to_check\u001b[0m \u001b[0;34m=\u001b[0m \u001b[0;34m\"http://www.example.com\"\u001b[0m\u001b[0;34m\u001b[0m\u001b[0;34m\u001b[0m\u001b[0m\n\u001b[1;32m     25\u001b[0m \u001b[0;34m\u001b[0m\u001b[0m\n\u001b[0;32m---> 26\u001b[0;31m     \u001b[0mis_phish\u001b[0m\u001b[0;34m,\u001b[0m \u001b[0mdetails\u001b[0m \u001b[0;34m=\u001b[0m \u001b[0mcheck_phishtank\u001b[0m\u001b[0;34m(\u001b[0m\u001b[0murl_to_check\u001b[0m\u001b[0;34m)\u001b[0m\u001b[0;34m\u001b[0m\u001b[0;34m\u001b[0m\u001b[0m\n\u001b[0m\u001b[1;32m     27\u001b[0m     \u001b[0;32mif\u001b[0m \u001b[0mis_phish\u001b[0m\u001b[0;34m:\u001b[0m\u001b[0;34m\u001b[0m\u001b[0;34m\u001b[0m\u001b[0m\n\u001b[1;32m     28\u001b[0m         \u001b[0mprint\u001b[0m\u001b[0;34m(\u001b[0m\u001b[0;34mf\"The URL '{url_to_check}' is a phishing site. Details: {details}\"\u001b[0m\u001b[0;34m)\u001b[0m\u001b[0;34m\u001b[0m\u001b[0;34m\u001b[0m\u001b[0m\n",
            "\u001b[0;32m<ipython-input-35-a3616c7557eb>\u001b[0m in \u001b[0;36mcheck_phishtank\u001b[0;34m(url_to_check)\u001b[0m\n\u001b[1;32m     18\u001b[0m             \u001b[0;32mreturn\u001b[0m \u001b[0;32mFalse\u001b[0m\u001b[0;34m,\u001b[0m \u001b[0;32mNone\u001b[0m\u001b[0;34m\u001b[0m\u001b[0;34m\u001b[0m\u001b[0m\n\u001b[1;32m     19\u001b[0m     \u001b[0;32melse\u001b[0m\u001b[0;34m:\u001b[0m\u001b[0;34m\u001b[0m\u001b[0;34m\u001b[0m\u001b[0m\n\u001b[0;32m---> 20\u001b[0;31m         \u001b[0mresponse\u001b[0m\u001b[0;34m.\u001b[0m\u001b[0mraise_for_status\u001b[0m\u001b[0;34m(\u001b[0m\u001b[0;34m)\u001b[0m\u001b[0;34m\u001b[0m\u001b[0;34m\u001b[0m\u001b[0m\n\u001b[0m\u001b[1;32m     21\u001b[0m \u001b[0;34m\u001b[0m\u001b[0m\n\u001b[1;32m     22\u001b[0m \u001b[0;31m# Example usage\u001b[0m\u001b[0;34m\u001b[0m\u001b[0;34m\u001b[0m\u001b[0m\n",
            "\u001b[0;32m/usr/local/lib/python3.10/dist-packages/requests/models.py\u001b[0m in \u001b[0;36mraise_for_status\u001b[0;34m(self)\u001b[0m\n\u001b[1;32m   1019\u001b[0m \u001b[0;34m\u001b[0m\u001b[0m\n\u001b[1;32m   1020\u001b[0m         \u001b[0;32mif\u001b[0m \u001b[0mhttp_error_msg\u001b[0m\u001b[0;34m:\u001b[0m\u001b[0;34m\u001b[0m\u001b[0;34m\u001b[0m\u001b[0m\n\u001b[0;32m-> 1021\u001b[0;31m             \u001b[0;32mraise\u001b[0m \u001b[0mHTTPError\u001b[0m\u001b[0;34m(\u001b[0m\u001b[0mhttp_error_msg\u001b[0m\u001b[0;34m,\u001b[0m \u001b[0mresponse\u001b[0m\u001b[0;34m=\u001b[0m\u001b[0mself\u001b[0m\u001b[0;34m)\u001b[0m\u001b[0;34m\u001b[0m\u001b[0;34m\u001b[0m\u001b[0m\n\u001b[0m\u001b[1;32m   1022\u001b[0m \u001b[0;34m\u001b[0m\u001b[0m\n\u001b[1;32m   1023\u001b[0m     \u001b[0;32mdef\u001b[0m \u001b[0mclose\u001b[0m\u001b[0;34m(\u001b[0m\u001b[0mself\u001b[0m\u001b[0;34m)\u001b[0m\u001b[0;34m:\u001b[0m\u001b[0;34m\u001b[0m\u001b[0;34m\u001b[0m\u001b[0m\n",
            "\u001b[0;31mHTTPError\u001b[0m: 403 Client Error: Forbidden for url: https://checkurl.phishtank.com/checkurl/?format=json&url=http%3A%2F%2Fwww.example.com"
          ]
        }
      ]
    }
  ]
}